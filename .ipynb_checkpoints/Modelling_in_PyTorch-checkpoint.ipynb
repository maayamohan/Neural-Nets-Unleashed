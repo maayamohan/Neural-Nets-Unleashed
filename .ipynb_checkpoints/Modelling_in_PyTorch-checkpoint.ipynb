{
  "nbformat": 4,
  "nbformat_minor": 0,
  "metadata": {
    "colab": {
      "provenance": []
    },
    "kernelspec": {
      "name": "python3",
      "display_name": "Python 3"
    },
    "language_info": {
      "name": "python"
    }
  },
  "cells": [
    {
      "cell_type": "code",
      "execution_count": null,
      "metadata": {
        "colab": {
          "base_uri": "https://localhost:8080/"
        },
        "id": "3oXizVIY0xM3",
        "outputId": "c518cdc7-15d1-4c35-ad5b-71078354839e"
      },
      "outputs": [
        {
          "output_type": "stream",
          "name": "stdout",
          "text": [
            "Tests passed successfully! ✅\n"
          ]
        }
      ],
      "source": [
        "import torch\n",
        "import torch.nn as nn\n",
        "\n",
        "# 1. Create a simple linear model.\n",
        "\n",
        "class LinearModel(nn.Module):\n",
        "    def __init__(self, input_size, output_size):\n",
        "        super(LinearModel, self).__init__()\n",
        "        # TODO: Add a linear layer.\n",
        "        # Hint: Use nn.Linear(input_size, output_size)\n",
        "        # Choices for input_size: 10, 20, 30\n",
        "        # Choices for output_size: 1, 5, 10\n",
        "\n",
        "\n",
        "    def forward(self, x):\n",
        "        # TODO: Pass the input through the linear layer.\n",
        "        # Hint: Use self.linear(x)\n",
        "        return \"<YOUR_OUTPUT>\"\n",
        "# Test conditions:\n",
        "def test_linear_model():\n",
        "  model = LinearModel(10, 1) # Example parameters for testing\n",
        "  input_data = torch.randn(1, 10) # Adjust dimensions as needed\n",
        "  output = model(input_data)\n",
        "\n",
        "  assert isinstance(model.linear, nn.Linear), \"Linear layer not correctly defined.\"\n",
        "  assert output.shape == torch.Size([1, 1]), \"Output shape is incorrect\"\n",
        "  # Add further assertion about the parameters of the linear layer if needed.\n",
        "\n",
        "test_linear_model()\n",
        "print(\"Tests passed successfully! ✅\")"
      ]
    },
    {
      "cell_type": "code",
      "source": [
        "# 2. Create a model with a hidden layer.\n",
        "\n",
        "class HiddenLayerModel(nn.Module):\n",
        "    def __init__(self, input_size, hidden_size, output_size):\n",
        "        super(HiddenLayerModel, self).__init__()\n",
        "        # TODO: Add two linear layers:\n",
        "        #   - one from input_size to hidden_size\n",
        "        #   - another from hidden_size to output_size\n",
        "        # Choices for input_size: 10, 20, 30\n",
        "        # Choices for hidden_size: 5, 10, 15\n",
        "        # Choices for output_size: 1, 5, 10\n",
        "\n",
        "\n",
        "\n",
        "        # TODO: Add a ReLU activation function\n",
        "        # Hint: Use nn.ReLU()\n",
        "\n",
        "    def forward(self, x):\n",
        "        # TODO: Pass input through the first linear layer, then ReLU, then the second linear layer.\n",
        "        x = self.fc1(x)\n",
        "        x = self.relu(x)\n",
        "        x = self.fc2(x)\n",
        "        return x"
      ],
      "metadata": {
        "id": "c_I5Gmrr3vyq"
      },
      "execution_count": null,
      "outputs": []
    },
    {
      "cell_type": "code",
      "source": [
        "# Test conditions:\n",
        "def test_hidden_layer_model():\n",
        "  model = HiddenLayerModel(20, 5, 1) # Example parameters for testing\n",
        "  input_data = torch.randn(1, 20)\n",
        "  output = model(input_data)\n",
        "\n",
        "  assert isinstance(model.fc1, nn.Linear), \"First linear layer not correctly defined.\"\n",
        "  assert isinstance(model.fc2, nn.Linear), \"Second linear layer not correctly defined.\"\n",
        "  assert isinstance(model.relu, nn.ReLU), \"ReLU activation not correctly defined.\"\n",
        "  assert output.shape == torch.Size([1, 1]), \"Output shape is incorrect\"\n",
        "  # Add further assertion about the parameters of the linear layers if needed.\n",
        "\n",
        "\n",
        "# Run the tests\n",
        "test_hidden_layer_model()\n",
        "\n",
        "print(\"Tests passed successfully!\")"
      ],
      "metadata": {
        "id": "oULNByp94qEt"
      },
      "execution_count": null,
      "outputs": []
    },
    {
      "cell_type": "markdown",
      "source": [
        "## Okay! Time to build a Neural Network!"
      ],
      "metadata": {
        "id": "uVGg4zFPJtUU"
      }
    },
    {
      "cell_type": "code",
      "source": [
        "import torch\n",
        "import torch.nn as nn"
      ],
      "metadata": {
        "id": "fIGzT5VZ4xLI"
      },
      "execution_count": null,
      "outputs": []
    },
    {
      "cell_type": "markdown",
      "source": [
        "## Step 1 -  Design the Model Architecture"
      ],
      "metadata": {
        "id": "I8S9gRwlK7ZW"
      }
    },
    {
      "cell_type": "code",
      "source": [
        "class myNeuralNetwork(nn.Module):\n",
        "    def __init__(self,input_size, hidden_layer_size,output_size,activation):\n",
        "        super(myNeuralNetwork, self).__init__()\n",
        "        self.layer1 = nn.Linear(input_size, hidden_layer_size)\n",
        "        self.layer2 = nn.Linear(hidden_layer_size, hidden_layer_size)\n",
        "        self.layer3 = nn.Linear(hidden_layer_size, output_size)\n",
        "        self.activation = activation\n",
        "    def forward(self, x):\n",
        "        x = x.view(x.size(0), -1)\n",
        "        x = self.layer1(x)\n",
        "        x = self.activation(x)\n",
        "        x = self.layer2(x)\n",
        "        return x"
      ],
      "metadata": {
        "id": "XTmQKptAJ2hA"
      },
      "execution_count": null,
      "outputs": []
    },
    {
      "cell_type": "markdown",
      "source": [
        "Every model in PyTorch *must* inherit from the `nn.Module` class."
      ],
      "metadata": {
        "id": "uIiKrcg1LEyE"
      }
    },
    {
      "cell_type": "markdown",
      "source": [
        "- Now, every model needs data!. Fortunately for us PyTorch provides us with sample datasets"
      ],
      "metadata": {
        "id": "JMffvNquMc1G"
      }
    },
    {
      "cell_type": "code",
      "source": [
        "from torchvision import datasets\n",
        "from torchvision.transforms import ToTensor\n",
        "from torch.utils.data import DataLoader\n",
        "\n",
        "train_data = datasets.MNIST(\n",
        "    root=\"data\",\n",
        "    train=True,\n",
        "    download=True,\n",
        "    transform=ToTensor()\n",
        ")\n",
        "test_data = datasets.MNIST(\n",
        "    root=\"data\",\n",
        "    train=False,\n",
        "    download=True,\n",
        "    transform=ToTensor()\n",
        ")"
      ],
      "metadata": {
        "colab": {
          "base_uri": "https://localhost:8080/"
        },
        "id": "N_t-Vbm_K5nG",
        "outputId": "49bbf495-7712-450d-e847-939b0268a3a2"
      },
      "execution_count": null,
      "outputs": [
        {
          "output_type": "stream",
          "name": "stdout",
          "text": [
            "Downloading http://yann.lecun.com/exdb/mnist/train-images-idx3-ubyte.gz\n",
            "Failed to download (trying next):\n",
            "HTTP Error 403: Forbidden\n",
            "\n",
            "Downloading https://ossci-datasets.s3.amazonaws.com/mnist/train-images-idx3-ubyte.gz\n",
            "Downloading https://ossci-datasets.s3.amazonaws.com/mnist/train-images-idx3-ubyte.gz to data/MNIST/raw/train-images-idx3-ubyte.gz\n"
          ]
        },
        {
          "output_type": "stream",
          "name": "stderr",
          "text": [
            "100%|██████████| 9912422/9912422 [00:03<00:00, 2670829.21it/s]\n"
          ]
        },
        {
          "output_type": "stream",
          "name": "stdout",
          "text": [
            "Extracting data/MNIST/raw/train-images-idx3-ubyte.gz to data/MNIST/raw\n",
            "\n",
            "Downloading http://yann.lecun.com/exdb/mnist/train-labels-idx1-ubyte.gz\n",
            "Failed to download (trying next):\n",
            "HTTP Error 403: Forbidden\n",
            "\n",
            "Downloading https://ossci-datasets.s3.amazonaws.com/mnist/train-labels-idx1-ubyte.gz\n",
            "Downloading https://ossci-datasets.s3.amazonaws.com/mnist/train-labels-idx1-ubyte.gz to data/MNIST/raw/train-labels-idx1-ubyte.gz\n"
          ]
        },
        {
          "output_type": "stream",
          "name": "stderr",
          "text": [
            "100%|██████████| 28881/28881 [00:00<00:00, 1133550.06it/s]\n"
          ]
        },
        {
          "output_type": "stream",
          "name": "stdout",
          "text": [
            "Extracting data/MNIST/raw/train-labels-idx1-ubyte.gz to data/MNIST/raw\n",
            "\n",
            "Downloading http://yann.lecun.com/exdb/mnist/t10k-images-idx3-ubyte.gz\n",
            "Failed to download (trying next):\n",
            "HTTP Error 403: Forbidden\n",
            "\n",
            "Downloading https://ossci-datasets.s3.amazonaws.com/mnist/t10k-images-idx3-ubyte.gz\n",
            "Downloading https://ossci-datasets.s3.amazonaws.com/mnist/t10k-images-idx3-ubyte.gz to data/MNIST/raw/t10k-images-idx3-ubyte.gz\n"
          ]
        },
        {
          "output_type": "stream",
          "name": "stderr",
          "text": [
            "100%|██████████| 1648877/1648877 [00:00<00:00, 9694459.10it/s]\n"
          ]
        },
        {
          "output_type": "stream",
          "name": "stdout",
          "text": [
            "Extracting data/MNIST/raw/t10k-images-idx3-ubyte.gz to data/MNIST/raw\n",
            "\n",
            "Downloading http://yann.lecun.com/exdb/mnist/t10k-labels-idx1-ubyte.gz\n",
            "Failed to download (trying next):\n",
            "HTTP Error 403: Forbidden\n",
            "\n",
            "Downloading https://ossci-datasets.s3.amazonaws.com/mnist/t10k-labels-idx1-ubyte.gz\n",
            "Downloading https://ossci-datasets.s3.amazonaws.com/mnist/t10k-labels-idx1-ubyte.gz to data/MNIST/raw/t10k-labels-idx1-ubyte.gz\n"
          ]
        },
        {
          "output_type": "stream",
          "name": "stderr",
          "text": [
            "100%|██████████| 4542/4542 [00:00<00:00, 2313361.11it/s]\n"
          ]
        },
        {
          "output_type": "stream",
          "name": "stdout",
          "text": [
            "Extracting data/MNIST/raw/t10k-labels-idx1-ubyte.gz to data/MNIST/raw\n",
            "\n"
          ]
        }
      ]
    },
    {
      "cell_type": "code",
      "source": [
        "# Define a training function and test function\n",
        "def train(dataloader, model, loss_fn, optimizer):\n",
        "    size = len(dataloader.dataset)\n",
        "    model.train()\n",
        "    live_loss = 0\n",
        "    for batch, (X, y) in enumerate(dataloader):\n",
        "\n",
        "        # Compute prediction error\n",
        "        pred = model(X)\n",
        "        loss = loss_fn(pred, y)\n",
        "\n",
        "        # Backpropagation\n",
        "        optimizer.zero_grad()\n",
        "        loss.backward()\n",
        "        optimizer.step()\n",
        "\n",
        "        live_loss = loss.item()*X.size(0)\n",
        "    return live_loss/size"
      ],
      "metadata": {
        "id": "5unfXfEwOdhc"
      },
      "execution_count": null,
      "outputs": []
    },
    {
      "cell_type": "code",
      "source": [
        "# Define a testing function\n",
        "def test(dataloader, model, loss_fn):\n",
        "  model.eval()\n",
        "  correct = 0\n",
        "  Total = 0\n",
        "  testLoss = 0.0\n",
        "  with torch.no_grad():\n",
        "    for X, y in dataloader:\n",
        "      pred = model(X)\n",
        "      testLoss += loss_fn(pred, y).item()\n",
        "      _, predicted = torch.max(pred.data, 1)\n",
        "      Total += y.size(0)\n",
        "      correct += (predicted == y).sum().item()\n",
        "  return testLoss/len(dataloader), correct/Total\n"
      ],
      "metadata": {
        "id": "wv0Mp90gP-2k"
      },
      "execution_count": null,
      "outputs": []
    },
    {
      "cell_type": "code",
      "source": [
        "# Hyperparameters\n",
        "input_size = 784\n",
        "hidden_size = 128\n",
        "num_classes = 10\n",
        "num_epochs = 10\n",
        "learning_rate = 0.001\n",
        "\n",
        "# Activation functions\n",
        "activation_functions = {\n",
        "    'ReLU': nn.ReLU(),\n",
        "    'Sigmoid': nn.Sigmoid(),\n",
        "    'Tanh': nn.Tanh(),\n",
        "    'LeakyReLU': nn.LeakyReLU()\n",
        "}\n",
        "\n",
        "results = {}\n",
        "\n",
        "train_loader = DataLoader(train_data, batch_size=64, shuffle=True)\n",
        "test_loader = DataLoader(test_data, batch_size=64, shuffle=False)\n",
        "\n",
        "# Train and test the model with different activation functions\n",
        "for name, activation_function in activation_functions.items():\n",
        "    print(f\"Training with {name} activation function...\")\n",
        "\n",
        "    model = myNeuralNetwork(input_size, hidden_size, num_classes, activation_function).to(device)\n",
        "    criterion = nn.CrossEntropyLoss()\n",
        "    optimizer = torch.optim.Adam(model.parameters(), lr=learning_rate)\n",
        "\n",
        "    train_loss_history = []\n",
        "    test_loss_history = []\n",
        "    test_accuracy_history = []\n",
        "\n",
        "    for epoch in range(num_epochs):\n",
        "        train_loss = train(train_loader, model, criterion, optimizer)\n",
        "        test_loss, test_accuracy = test(test_loader, model, criterion)\n",
        "\n",
        "        train_loss_history.append(train_loss)\n",
        "        test_loss_history.append(test_loss)\n",
        "        test_accuracy_history.append(test_accuracy)\n",
        "\n",
        "        print(f\"Epoch [{epoch + 1}/{num_epochs}], Test Loss: {test_loss:.4f}, Test Accuracy: {test_accuracy:.2f}%\")\n",
        "\n",
        "    results[name] = {\n",
        "        'train_loss_history': train_loss_history,\n",
        "        'test_loss_history': test_loss_history,\n",
        "        'test_accuracy_history': test_accuracy_history\n",
        "    }"
      ],
      "metadata": {
        "colab": {
          "base_uri": "https://localhost:8080/"
        },
        "id": "VdlhoDVSQyZE",
        "outputId": "f3699264-098b-46bb-c55c-5e6b9b0ac174"
      },
      "execution_count": null,
      "outputs": [
        {
          "output_type": "stream",
          "name": "stdout",
          "text": [
            "Training with ReLU activation function...\n",
            "Epoch [1/10], Test Loss: 0.2169, Test Accuracy: 0.94%\n",
            "Epoch [2/10], Test Loss: 0.1550, Test Accuracy: 0.96%\n",
            "Epoch [3/10], Test Loss: 0.1283, Test Accuracy: 0.96%\n",
            "Epoch [4/10], Test Loss: 0.1023, Test Accuracy: 0.97%\n",
            "Epoch [5/10], Test Loss: 0.0920, Test Accuracy: 0.97%\n",
            "Epoch [6/10], Test Loss: 0.0849, Test Accuracy: 0.97%\n",
            "Epoch [7/10], Test Loss: 0.0774, Test Accuracy: 0.98%\n",
            "Epoch [8/10], Test Loss: 0.0783, Test Accuracy: 0.98%\n",
            "Epoch [9/10], Test Loss: 0.0723, Test Accuracy: 0.98%\n",
            "Epoch [10/10], Test Loss: 0.0733, Test Accuracy: 0.98%\n",
            "Training with Sigmoid activation function...\n",
            "Epoch [1/10], Test Loss: 0.2747, Test Accuracy: 0.92%\n",
            "Epoch [2/10], Test Loss: 0.2104, Test Accuracy: 0.94%\n",
            "Epoch [3/10], Test Loss: 0.1663, Test Accuracy: 0.95%\n",
            "Epoch [4/10], Test Loss: 0.1417, Test Accuracy: 0.96%\n",
            "Epoch [5/10], Test Loss: 0.1275, Test Accuracy: 0.96%\n",
            "Epoch [6/10], Test Loss: 0.1121, Test Accuracy: 0.97%\n",
            "Epoch [7/10], Test Loss: 0.1023, Test Accuracy: 0.97%\n",
            "Epoch [8/10], Test Loss: 0.0978, Test Accuracy: 0.97%\n",
            "Epoch [9/10], Test Loss: 0.0914, Test Accuracy: 0.97%\n",
            "Epoch [10/10], Test Loss: 0.0869, Test Accuracy: 0.97%\n",
            "Training with Tanh activation function...\n",
            "Epoch [1/10], Test Loss: 0.2019, Test Accuracy: 0.94%\n",
            "Epoch [2/10], Test Loss: 0.1461, Test Accuracy: 0.96%\n",
            "Epoch [3/10], Test Loss: 0.1218, Test Accuracy: 0.96%\n",
            "Epoch [4/10], Test Loss: 0.1026, Test Accuracy: 0.97%\n",
            "Epoch [5/10], Test Loss: 0.0884, Test Accuracy: 0.97%\n",
            "Epoch [6/10], Test Loss: 0.0844, Test Accuracy: 0.97%\n",
            "Epoch [7/10], Test Loss: 0.0825, Test Accuracy: 0.97%\n",
            "Epoch [8/10], Test Loss: 0.0801, Test Accuracy: 0.98%\n",
            "Epoch [9/10], Test Loss: 0.0750, Test Accuracy: 0.98%\n",
            "Epoch [10/10], Test Loss: 0.0759, Test Accuracy: 0.98%\n",
            "Training with LeakyReLU activation function...\n",
            "Epoch [1/10], Test Loss: 0.2055, Test Accuracy: 0.94%\n",
            "Epoch [2/10], Test Loss: 0.1465, Test Accuracy: 0.96%\n",
            "Epoch [3/10], Test Loss: 0.1239, Test Accuracy: 0.96%\n",
            "Epoch [4/10], Test Loss: 0.1032, Test Accuracy: 0.97%\n",
            "Epoch [5/10], Test Loss: 0.0891, Test Accuracy: 0.97%\n",
            "Epoch [6/10], Test Loss: 0.0842, Test Accuracy: 0.97%\n",
            "Epoch [7/10], Test Loss: 0.0891, Test Accuracy: 0.97%\n",
            "Epoch [8/10], Test Loss: 0.0770, Test Accuracy: 0.98%\n",
            "Epoch [9/10], Test Loss: 0.0793, Test Accuracy: 0.98%\n",
            "Epoch [10/10], Test Loss: 0.0743, Test Accuracy: 0.98%\n"
          ]
        }
      ]
    },
    {
      "cell_type": "code",
      "source": [
        "import matplotlib.pyplot as plt\n",
        "plt.figure()\n",
        "for name, result in results.items():\n",
        "    plt.plot(result['test_accuracy_history'], label=name)\n",
        "plt.xlabel('Epoch')\n",
        "plt.ylabel('Test Accuracy')\n",
        "plt.legend()\n",
        "plt.show()"
      ],
      "metadata": {
        "colab": {
          "base_uri": "https://localhost:8080/",
          "height": 449
        },
        "id": "G62fpUzsRQS6",
        "outputId": "0991ca81-10a1-4f21-fd17-3fb986f2f423"
      },
      "execution_count": null,
      "outputs": [
        {
          "output_type": "display_data",
          "data": {
            "text/plain": [
              "<Figure size 640x480 with 1 Axes>"
            ],
            "image/png": "[encoded data removed]"
          },
          "metadata": {}
        }
      ]
    },
    {
      "cell_type": "code",
      "source": [],
      "metadata": {
        "id": "y-zBSYj1VTcz"
      },
      "execution_count": null,
      "outputs": []
    }
  ]
}