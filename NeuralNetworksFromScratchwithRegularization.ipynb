{
 "cells": [
  {
   "cell_type": "code",
   "execution_count": 1,
   "id": "b6078e50-8791-4818-891a-edaa3045a44e",
   "metadata": {
    "id": "b6078e50-8791-4818-891a-edaa3045a44e",
    "scrolled": true
   },
   "outputs": [
    {
     "name": "stderr",
     "output_type": "stream",
     "text": [
      "2024-10-21 07:13:38.358440: I tensorflow/core/platform/cpu_feature_guard.cc:210] This TensorFlow binary is optimized to use available CPU instructions in performance-critical operations.\n",
      "To enable the following instructions: AVX2 FMA, in other operations, rebuild TensorFlow with the appropriate compiler flags.\n"
     ]
    }
   ],
   "source": [
    "# importing required modules\n",
    "import numpy as np\n",
    "import matplotlib.pyplot as plt\n",
    "from tensorflow.keras.datasets import mnist"
   ]
  },
  {
   "cell_type": "code",
   "execution_count": 4,
   "id": "824fc6ff-ba3d-4035-a413-e82919e9e41f",
   "metadata": {},
   "outputs": [],
   "source": []
  },
  {
   "cell_type": "code",
   "execution_count": 5,
   "id": "5bee2ac1-7383-4cc9-9fcd-007c67373c5f",
   "metadata": {
    "colab": {
     "base_uri": "https://localhost:8080/"
    },
    "id": "5bee2ac1-7383-4cc9-9fcd-007c67373c5f",
    "outputId": "6accc4ed-5227-403b-aeb9-e3d0d9a5676f"
   },
   "outputs": [
    {
     "name": "stdout",
     "output_type": "stream",
     "text": [
      "Downloading data from https://storage.googleapis.com/tensorflow/tf-keras-datasets/train-labels-idx1-ubyte.gz\n",
      "\u001b[1m29515/29515\u001b[0m \u001b[32m━━━━━━━━━━━━━━━━━━━━\u001b[0m\u001b[37m\u001b[0m \u001b[1m0s\u001b[0m 2us/step\n",
      "Downloading data from https://storage.googleapis.com/tensorflow/tf-keras-datasets/train-images-idx3-ubyte.gz\n",
      "\u001b[1m26421880/26421880\u001b[0m \u001b[32m━━━━━━━━━━━━━━━━━━━━\u001b[0m\u001b[37m\u001b[0m \u001b[1m37s\u001b[0m 1us/step\n",
      "Downloading data from https://storage.googleapis.com/tensorflow/tf-keras-datasets/t10k-labels-idx1-ubyte.gz\n",
      "\u001b[1m5148/5148\u001b[0m \u001b[32m━━━━━━━━━━━━━━━━━━━━\u001b[0m\u001b[37m\u001b[0m \u001b[1m0s\u001b[0m 4us/step\n",
      "Downloading data from https://storage.googleapis.com/tensorflow/tf-keras-datasets/t10k-images-idx3-ubyte.gz\n",
      "\u001b[1m4422102/4422102\u001b[0m \u001b[32m━━━━━━━━━━━━━━━━━━━━\u001b[0m\u001b[37m\u001b[0m \u001b[1m5s\u001b[0m 1us/step\n"
     ]
    }
   ],
   "source": [
    "# loading data\n",
    "(x_train, y_train), (x_test, y_test) = mnist.load_data()"
   ]
  },
  {
   "cell_type": "code",
   "execution_count": 3,
   "id": "1c114fbe-a575-42a7-97ab-9f83a10e1f76",
   "metadata": {
    "id": "1c114fbe-a575-42a7-97ab-9f83a10e1f76"
   },
   "outputs": [],
   "source": [
    "# checking if all data is loaded properly\n",
    "assert x_train.shape == (60000, 28, 28)\n",
    "assert x_test.shape == (10000, 28, 28)\n",
    "assert y_train.shape == (60000,)\n",
    "assert y_test.shape == (10000,)"
   ]
  },
  {
   "cell_type": "markdown",
   "id": "9355a3bd-99c2-41cf-b75d-75d3628b0a52",
   "metadata": {
    "id": "9355a3bd-99c2-41cf-b75d-75d3628b0a52"
   },
   "source": [
    "## Load the MNIST Dataset"
   ]
  },
  {
   "cell_type": "markdown",
   "id": "712741fc-359a-47b9-878d-84292c52c469",
   "metadata": {
    "id": "712741fc-359a-47b9-878d-84292c52c469"
   },
   "source": [
    "`Flattening`: The reshape(x_train.shape[0], -1) method transforms the training data (x_train) from its original multi-dimensional shape (e.g., for images, this could be width x height x channels) into a two-dimensional array. Each sample is converted into a single row, where the first dimension is the number of samples, and the second dimension contains all the pixel values in a flattened format. This is essential for feeding the data into models that expect a flat input, such as fully connected layers in neural networks.\n",
    "\n",
    "`Normalization`: The division by 255.0 scales the pixel values to a range between 0 and 1, as pixel values in images typically range from 0 to 255. Normalization helps improve model training by ensuring that the input features have similar scales, which enhances convergence speed and overall model performance.\n",
    "\n",
    "`Combined Effect`: By flattening and normalizing the data simultaneously, the code prepares the input data for effective processing by machine learning models, ensuring that they can learn efficiently from the data while reducing the risk of issues caused by varying input scales."
   ]
  },
  {
   "cell_type": "code",
   "execution_count": 4,
   "id": "af3d578c-66f5-4be6-a3b7-b5d024a882e5",
   "metadata": {
    "id": "af3d578c-66f5-4be6-a3b7-b5d024a882e5"
   },
   "outputs": [],
   "source": [
    "# flattening and normalizing the input data\n",
    "x_train = x_train.reshape(x_train.shape[0], -1) / 255.0\n",
    "x_test = x_test.reshape(x_test.shape[0], -1) / 255.0"
   ]
  },
  {
   "cell_type": "markdown",
   "id": "6e6c2485-b7d0-451f-94a8-09c421990157",
   "metadata": {
    "id": "6e6c2485-b7d0-451f-94a8-09c421990157"
   },
   "source": [
    "## Time to one-hot encode the data."
   ]
  },
  {
   "cell_type": "code",
   "execution_count": 5,
   "id": "b4a769a6-84ae-4311-8022-2f4086b2444f",
   "metadata": {
    "id": "b4a769a6-84ae-4311-8022-2f4086b2444f"
   },
   "outputs": [],
   "source": [
    "# one-hot encoding (creating an identity matrix corresponding to the number of categories)\n",
    "def one_hot_encode(y, num_classes):\n",
    "    return np.eye(num_classes)[y]"
   ]
  },
  {
   "cell_type": "markdown",
   "id": "90a3d17d-bfa2-440c-b802-071b8c9eca74",
   "metadata": {
    "id": "90a3d17d-bfa2-440c-b802-071b8c9eca74"
   },
   "source": [
    "One-hot encoding is applied only to the target variable (y_train and y_test) to convert categorical class labels into a binary format suitable for classification tasks. This transformation allows the model to output probabilities for each class and avoids implying any ordinal relationships. The input features (x_train and x_test) are typically left in their original format to preserve their numerical or categorical significance for effective model training."
   ]
  },
  {
   "cell_type": "code",
   "execution_count": 6,
   "id": "52680bb7-54f1-4437-9014-ad69814c0eee",
   "metadata": {
    "id": "52680bb7-54f1-4437-9014-ad69814c0eee"
   },
   "outputs": [],
   "source": [
    "# applying one-hot encoding (creating 10x10 matrix for the 10 categories of digits)\n",
    "y_train_encoded = one_hot_encode(y_train, 10)\n",
    "y_test_encoded = one_hot_encode(y_test, 10)"
   ]
  },
  {
   "cell_type": "markdown",
   "id": "1c2a899d-f109-4809-83aa-b6a9cef5b1f9",
   "metadata": {
    "id": "1c2a899d-f109-4809-83aa-b6a9cef5b1f9"
   },
   "source": [
    "# Let's define a Neural Network Now:"
   ]
  },
  {
   "cell_type": "code",
   "execution_count": 12,
   "id": "89de8137-141b-415a-80eb-09d74aa8fffe",
   "metadata": {
    "id": "89de8137-141b-415a-80eb-09d74aa8fffe"
   },
   "outputs": [],
   "source": [
    "import numpy as np  # Import NumPy for numerical operations\n",
    "\n",
    "mya = np.random.seed(46)\n",
    "\n",
    "class NeuralNetwork:\n",
    "    def __init__(self, input_size, hidden_size, output_size, learning_rate=0.01):\n",
    "        # Initialize weights and biases for input to hidden layer\n",
    "        self.W1 = np.random.randn(input_size, hidden_size) * 0.01  # Small random weights\n",
    "        self.b1 = np.zeros((1, hidden_size))  # Biases initialized to zero\n",
    "\n",
    "        # Initialize weights and biases for hidden to output layer\n",
    "        self.W2 = np.random.randn(hidden_size, output_size) * 0.01  # Small random weights\n",
    "        self.b2 = np.zeros((1, output_size))  # Biases initialized to zero\n",
    "\n",
    "        self.learning_rate = learning_rate  # Set learning rate\n",
    "\n",
    "    def softmax(self, x):\n",
    "        # Compute the softmax of the input for multi-class classification\n",
    "        exp_x = np.exp(x - np.max(x, axis=1, keepdims=True))  # For numerical stability\n",
    "        return exp_x / np.sum(exp_x, axis=1, keepdims=True)  # Normalize to get probabilities\n",
    "\n",
    "    def forward(self, X):\n",
    "        # Perform forward propagation\n",
    "        self.z1 = np.dot(X, self.W1) + self.b1  # Linear combination for hidden layer\n",
    "        self.a1 = np.tanh(self.z1)  # Activation function for hidden layer (tanh)\n",
    "        self.z2 = np.dot(self.a1, self.W2) + self.b2  # Linear combination for output layer\n",
    "        self.a2 = self.softmax(self.z2)  # Softmax activation for output layer\n",
    "        return self.a2  # Return the output probabilities\n",
    "\n",
    "    def backward(self, X, y, output):\n",
    "        # Perform backward propagation to update weights and biases\n",
    "        m = X.shape[0]  # Number of samples\n",
    "\n",
    "        # Calculate the error at the output layer\n",
    "        output_error = output - y  # Derivative of loss w.r.t. output\n",
    "\n",
    "        # Calculate the error at the hidden layer\n",
    "        hidden_error = np.dot(output_error, self.W2.T) * (1 - np.tanh(self.z1) ** 2)  # Derivative of tanh\n",
    "\n",
    "        # Compute gradients\n",
    "        dW2 = np.dot(self.a1.T, output_error) / m  # Gradient for W2\n",
    "        db2 = np.sum(output_error, axis=0, keepdims=True) / m  # Gradient for b2\n",
    "        dW1 = np.dot(X.T, hidden_error) / m  # Gradient for W1\n",
    "        db1 = np.sum(hidden_error, axis=0, keepdims=True) / m  # Gradient for b1\n",
    "\n",
    "        # Update weights and biases using gradient descent\n",
    "        self.W1 -= self.learning_rate * dW1  # Update W1\n",
    "        self.b1 -= self.learning_rate * db1  # Update b1\n",
    "        self.W2 -= self.learning_rate * dW2  # Update W2\n",
    "        self.b2 -= self.learning_rate * db2  # Update b2\n",
    "\n",
    "    def train(self, X, y, epochs):\n",
    "        # Train the neural network for a specified number of epochs\n",
    "        for epoch in range(epochs):\n",
    "            output = self.forward(X)  # Forward pass\n",
    "            self.backward(X, y, output)  # Backward pass\n",
    "\n",
    "            # Print loss every 100 epochs\n",
    "            if epoch % 10 == 0:\n",
    "                loss = -np.mean(np.sum(y * np.log(output + 1e-10), axis=1))  # Cross-entropy loss\n",
    "                print(f\"Epoch {epoch}, Loss: {loss:.4f}\")\n",
    "\n",
    "    def predict(self, X):\n",
    "        # Make predictions for input data\n",
    "        output = self.forward(X)  # Forward pass to get output\n",
    "        return np.argmax(output, axis=1)  # Return the class with the highest probability\n"
   ]
  },
  {
   "cell_type": "code",
   "execution_count": 23,
   "id": "d55b1aa5-d8ca-41d5-9714-858a37683f3c",
   "metadata": {
    "id": "d55b1aa5-d8ca-41d5-9714-858a37683f3c"
   },
   "outputs": [],
   "source": [
    "# Hyperparameters\n",
    "input_size = 784  # 28x28 pixels\n",
    "hidden_size = 128  # Number of neurons in the hidden layer\n",
    "output_size = 10   # 10 classes for digits 0-9\n",
    "learning_rate = 0.5\n",
    "epochs = 1000"
   ]
  },
  {
   "cell_type": "code",
   "execution_count": 24,
   "id": "e149f221-b151-47ec-ae51-42af6012e6da",
   "metadata": {
    "colab": {
     "base_uri": "https://localhost:8080/"
    },
    "id": "e149f221-b151-47ec-ae51-42af6012e6da",
    "outputId": "b10d3d09-823b-48ea-fe92-99bfdbc01684"
   },
   "outputs": [
    {
     "name": "stdout",
     "output_type": "stream",
     "text": [
      "Epoch 0, Loss: 2.3017\n",
      "Epoch 10, Loss: 1.7483\n",
      "Epoch 20, Loss: 0.8835\n",
      "Epoch 30, Loss: 0.6249\n",
      "Epoch 40, Loss: 0.5157\n",
      "Epoch 50, Loss: 0.4543\n",
      "Epoch 60, Loss: 0.4152\n",
      "Epoch 70, Loss: 0.3884\n",
      "Epoch 80, Loss: 0.3687\n",
      "Epoch 90, Loss: 0.3536\n",
      "Epoch 100, Loss: 0.3414\n",
      "Epoch 110, Loss: 0.3312\n",
      "Epoch 120, Loss: 0.3225\n",
      "Epoch 130, Loss: 0.3149\n",
      "Epoch 140, Loss: 0.3081\n",
      "Epoch 150, Loss: 0.3020\n",
      "Epoch 160, Loss: 0.2964\n",
      "Epoch 170, Loss: 0.2913\n",
      "Epoch 180, Loss: 0.2864\n",
      "Epoch 190, Loss: 0.2819\n",
      "Epoch 200, Loss: 0.2776\n",
      "Epoch 210, Loss: 0.2735\n",
      "Epoch 220, Loss: 0.2695\n",
      "Epoch 230, Loss: 0.2657\n",
      "Epoch 240, Loss: 0.2620\n",
      "Epoch 250, Loss: 0.2584\n",
      "Epoch 260, Loss: 0.2549\n",
      "Epoch 270, Loss: 0.2515\n",
      "Epoch 280, Loss: 0.2482\n",
      "Epoch 290, Loss: 0.2449\n",
      "Epoch 300, Loss: 0.2417\n",
      "Epoch 310, Loss: 0.2386\n",
      "Epoch 320, Loss: 0.2355\n",
      "Epoch 330, Loss: 0.2325\n",
      "Epoch 340, Loss: 0.2295\n",
      "Epoch 350, Loss: 0.2266\n",
      "Epoch 360, Loss: 0.2238\n",
      "Epoch 370, Loss: 0.2210\n",
      "Epoch 380, Loss: 0.2182\n",
      "Epoch 390, Loss: 0.2156\n",
      "Epoch 400, Loss: 0.2130\n",
      "Epoch 410, Loss: 0.2104\n",
      "Epoch 420, Loss: 0.2079\n",
      "Epoch 430, Loss: 0.2054\n",
      "Epoch 440, Loss: 0.2030\n",
      "Epoch 450, Loss: 0.2007\n",
      "Epoch 460, Loss: 0.1984\n",
      "Epoch 470, Loss: 0.1961\n",
      "Epoch 480, Loss: 0.1939\n",
      "Epoch 490, Loss: 0.1917\n",
      "Epoch 500, Loss: 0.1896\n",
      "Epoch 510, Loss: 0.1875\n",
      "Epoch 520, Loss: 0.1855\n",
      "Epoch 530, Loss: 0.1835\n",
      "Epoch 540, Loss: 0.1816\n",
      "Epoch 550, Loss: 0.1796\n",
      "Epoch 560, Loss: 0.1778\n",
      "Epoch 570, Loss: 0.1759\n",
      "Epoch 580, Loss: 0.1741\n",
      "Epoch 590, Loss: 0.1724\n",
      "Epoch 600, Loss: 0.1706\n",
      "Epoch 610, Loss: 0.1689\n",
      "Epoch 620, Loss: 0.1672\n",
      "Epoch 630, Loss: 0.1656\n",
      "Epoch 640, Loss: 0.1640\n",
      "Epoch 650, Loss: 0.1624\n",
      "Epoch 660, Loss: 0.1609\n",
      "Epoch 670, Loss: 0.1593\n",
      "Epoch 680, Loss: 0.1578\n",
      "Epoch 690, Loss: 0.1563\n",
      "Epoch 700, Loss: 0.1549\n",
      "Epoch 710, Loss: 0.1535\n",
      "Epoch 720, Loss: 0.1521\n",
      "Epoch 730, Loss: 0.1507\n",
      "Epoch 740, Loss: 0.1493\n",
      "Epoch 750, Loss: 0.1480\n",
      "Epoch 760, Loss: 0.1467\n",
      "Epoch 770, Loss: 0.1454\n",
      "Epoch 780, Loss: 0.1441\n",
      "Epoch 790, Loss: 0.1428\n",
      "Epoch 800, Loss: 0.1416\n",
      "Epoch 810, Loss: 0.1404\n",
      "Epoch 820, Loss: 0.1392\n",
      "Epoch 830, Loss: 0.1380\n",
      "Epoch 840, Loss: 0.1368\n",
      "Epoch 850, Loss: 0.1357\n",
      "Epoch 860, Loss: 0.1346\n",
      "Epoch 870, Loss: 0.1334\n",
      "Epoch 880, Loss: 0.1323\n",
      "Epoch 890, Loss: 0.1313\n",
      "Epoch 900, Loss: 0.1302\n",
      "Epoch 910, Loss: 0.1291\n",
      "Epoch 920, Loss: 0.1281\n",
      "Epoch 930, Loss: 0.1271\n",
      "Epoch 940, Loss: 0.1261\n",
      "Epoch 950, Loss: 0.1251\n",
      "Epoch 960, Loss: 0.1241\n",
      "Epoch 970, Loss: 0.1231\n",
      "Epoch 980, Loss: 0.1222\n",
      "Epoch 990, Loss: 0.1213\n"
     ]
    }
   ],
   "source": [
    "nn = NeuralNetwork(input_size, hidden_size, output_size, learning_rate)\n",
    "nn.train(x_train, y_train_encoded, epochs)"
   ]
  },
  {
   "cell_type": "code",
   "execution_count": 21,
   "id": "e27d6278-aa88-4c27-84ad-cae423c1e5b2",
   "metadata": {
    "colab": {
     "base_uri": "https://localhost:8080/"
    },
    "id": "e27d6278-aa88-4c27-84ad-cae423c1e5b2",
    "outputId": "90c39543-960a-4545-b641-f46987b14a7c"
   },
   "outputs": [
    {
     "name": "stdout",
     "output_type": "stream",
     "text": [
      "Test Accuracy: 0.9574\n"
     ]
    }
   ],
   "source": [
    "# Evaluate the model\n",
    "predictions = nn.predict(x_test)\n",
    "accuracy = np.mean(predictions == y_test)\n",
    "print(f\"Test Accuracy: {accuracy:.4f}\")"
   ]
  },
  {
   "cell_type": "code",
   "execution_count": 22,
   "id": "dc559ff4-f301-4e68-aeb9-743492193342",
   "metadata": {
    "colab": {
     "base_uri": "https://localhost:8080/",
     "height": 494
    },
    "id": "dc559ff4-f301-4e68-aeb9-743492193342",
    "outputId": "1a409b2d-ff07-4b9e-c621-dc81578aefee"
   },
   "outputs": [
    {
     "data": {
      "image/png": "[encoded data removed]",
      "text/plain": [
       "<Figure size 1000x500 with 10 Axes>"
      ]
     },
     "metadata": {},
     "output_type": "display_data"
    }
   ],
   "source": [
    "# Visualize some predictions\n",
    "def plot_predictions(X, y_true, y_pred, num_images=10):\n",
    "    plt.figure(figsize=(10, 5))\n",
    "    for i in range(num_images):\n",
    "        plt.subplot(2, 5, i + 1)\n",
    "        plt.imshow(X[i].reshape(28, 28), cmap='gray')\n",
    "        plt.title(f'True: {y_true[i]}\\nPred: {y_pred[i]}')\n",
    "        plt.axis('off')\n",
    "    plt.tight_layout()\n",
    "    plt.show()\n",
    "\n",
    "# Visualize predictions on test set\n",
    "plot_predictions(x_test, y_test, predictions)"
   ]
  },
  {
   "cell_type": "markdown",
   "id": "ZWoBe8DhO_v7",
   "metadata": {
    "id": "ZWoBe8DhO_v7"
   },
   "source": [
    "## Now Lets try the same with Regularization!"
   ]
  },
  {
   "cell_type": "code",
   "execution_count": null,
   "id": "fppzhKqqOdi_",
   "metadata": {
    "id": "fppzhKqqOdi_"
   },
   "outputs": [],
   "source": [
    "class NeuralNetwork:\n",
    "    def __init__(self, input_size, hidden_size, output_size, learning_rate=0.01, l1_lambda=0.0, l2_lambda=0.0):\n",
    "        self.W1 = np.random.randn(input_size, hidden_size) * 0.01\n",
    "        self.b1 = np.zeros((1, hidden_size))\n",
    "        self.W2 = np.random.randn(hidden_size, output_size) * 0.01\n",
    "        self.b2 = np.zeros((1, output_size))\n",
    "        self.learning_rate = learning_rate\n",
    "        self.l1_lambda = l1_lambda\n",
    "        self.l2_lambda = l2_lambda\n",
    "\n",
    "    def softmax(self, x):\n",
    "        exp_x = np.exp(x - np.max(x, axis=1, keepdims=True))\n",
    "        return exp_x / np.sum(exp_x, axis=1, keepdims=True)\n",
    "\n",
    "    def forward(self, X):\n",
    "        self.z1 = np.dot(X, self.W1) + self.b1\n",
    "        self.a1 = np.tanh(self.z1)\n",
    "        self.z2 = np.dot(self.a1, self.W2) + self.b2\n",
    "        self.a2 = self.softmax(self.z2)\n",
    "        return self.a2\n",
    "\n",
    "    def backward(self, X, y, output):\n",
    "        m = X.shape[0]\n",
    "        output_error = output - y\n",
    "        hidden_error = np.dot(output_error, self.W2.T) * (1 - np.tanh(self.z1) ** 2)\n",
    "\n",
    "        dW2 = np.dot(self.a1.T, output_error) / m\n",
    "        db2 = np.sum(output_error, axis=0, keepdims=True) / m\n",
    "        dW1 = np.dot(X.T, hidden_error) / m\n",
    "        db1 = np.sum(hidden_error, axis=0, keepdims=True) / m\n",
    "\n",
    "        # L1 regularization\n",
    "        dW1 += self.l1_lambda * np.sign(self.W1)\n",
    "        dW2 += self.l1_lambda * np.sign(self.W2)\n",
    "\n",
    "        # L2 regularization\n",
    "        dW1 += self.l2_lambda * self.W1\n",
    "        dW2 += self.l2_lambda * self.W2\n",
    "\n",
    "        self.W1 -= self.learning_rate * dW1\n",
    "        self.b1 -= self.learning_rate * db1\n",
    "        self.W2 -= self.learning_rate * dW2\n",
    "        self.b2 -= self.learning_rate * db2\n",
    "\n",
    "    def train(self, X, y, epochs):\n",
    "        for epoch in range(epochs):\n",
    "            output = self.forward(X)\n",
    "            self.backward(X, y, output)\n",
    "            if epoch % 100 == 0:\n",
    "                loss = -np.mean(np.sum(y * np.log(output + 1e-10), axis=1))\n",
    "                print(f\"Epoch {epoch}, Loss: {loss:.4f}\")\n",
    "\n",
    "    def predict(self, X):\n",
    "        output = self.forward(X)\n",
    "        return np.argmax(output, axis=1)"
   ]
  },
  {
   "cell_type": "code",
   "execution_count": null,
   "id": "R2iswBuaOqE1",
   "metadata": {
    "id": "R2iswBuaOqE1"
   },
   "outputs": [],
   "source": [
    "# Hyperparameters\n",
    "input_size = 784\n",
    "hidden_size = 128\n",
    "output_size = 10\n",
    "learning_rate = 0.01\n",
    "epochs = 100"
   ]
  },
  {
   "cell_type": "code",
   "execution_count": null,
   "id": "8es-WERIOr5w",
   "metadata": {
    "colab": {
     "base_uri": "https://localhost:8080/"
    },
    "id": "8es-WERIOr5w",
    "outputId": "532203c2-143f-4b48-c8a6-edbe6a48ffce"
   },
   "outputs": [],
   "source": [
    "# Train without regularization\n",
    "nn_no_reg = NeuralNetwork(input_size, hidden_size, output_size, learning_rate)\n",
    "nn_no_reg.train(x_train, y_train_encoded, epochs)\n",
    "predictions_no_reg = nn_no_reg.predict(x_test)\n",
    "accuracy_no_reg = np.mean(predictions_no_reg == y_test)\n",
    "print(f\"Test Accuracy (No Regularization): {accuracy_no_reg:.4f}\")"
   ]
  },
  {
   "cell_type": "code",
   "execution_count": null,
   "id": "uiOjIWbbOvby",
   "metadata": {
    "colab": {
     "base_uri": "https://localhost:8080/"
    },
    "id": "uiOjIWbbOvby",
    "outputId": "195fa477-f281-46fc-d1e3-dfe3a71223e0"
   },
   "outputs": [],
   "source": [
    "# Train with L1 regularization\n",
    "nn_l1 = NeuralNetwork(input_size, hidden_size, output_size, learning_rate, l1_lambda=0.001)\n",
    "nn_l1.train(x_train, y_train_encoded, epochs)\n",
    "predictions_l1 = nn_l1.predict(x_test)\n",
    "accuracy_l1 = np.mean(predictions_l1 == y_test)\n",
    "print(f\"Test Accuracy (L1 Regularization): {accuracy_l1:.4f}\")"
   ]
  },
  {
   "cell_type": "code",
   "execution_count": null,
   "id": "ts_fVxT2O7gR",
   "metadata": {
    "colab": {
     "base_uri": "https://localhost:8080/"
    },
    "id": "ts_fVxT2O7gR",
    "outputId": "206c37ee-4fae-4821-a46d-6449e742ca17"
   },
   "outputs": [],
   "source": [
    "# Train with L2 regularization\n",
    "nn_l2 = NeuralNetwork(input_size, hidden_size, output_size, learning_rate, l2_lambda=0.001)\n",
    "nn_l2.train(x_train, y_train_encoded, epochs)\n",
    "predictions_l2 = nn_l2.predict(x_test)\n",
    "accuracy_l2 = np.mean(predictions_l2 == y_test)\n",
    "print(f\"Test Accuracy (L2 Regularization): {accuracy_l2:.4f}\")"
   ]
  },
  {
   "cell_type": "code",
   "execution_count": null,
   "id": "Q9euA-6eJyCh",
   "metadata": {
    "id": "Q9euA-6eJyCh"
   },
   "outputs": [],
   "source": []
  }
 ],
 "metadata": {
  "colab": {
   "provenance": []
  },
  "kernelspec": {
   "display_name": "Python 3 (ipykernel)",
   "language": "python",
   "name": "python3"
  },
  "language_info": {
   "codemirror_mode": {
    "name": "ipython",
    "version": 3
   },
   "file_extension": ".py",
   "mimetype": "text/x-python",
   "name": "python",
   "nbconvert_exporter": "python",
   "pygments_lexer": "ipython3",
   "version": "3.11.5"
  }
 },
 "nbformat": 4,
 "nbformat_minor": 5
}
