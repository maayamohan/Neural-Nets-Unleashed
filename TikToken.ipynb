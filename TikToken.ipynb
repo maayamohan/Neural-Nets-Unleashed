{
 "cells": [
  {
   "cell_type": "code",
   "execution_count": 1,
   "id": "93955ad6-1175-4b80-bcf7-3ee12bc84cc4",
   "metadata": {},
   "outputs": [
    {
     "name": "stdout",
     "output_type": "stream",
     "text": [
      "Collecting tiktoken\n",
      "  Downloading tiktoken-0.8.0-cp311-cp311-macosx_10_9_x86_64.whl.metadata (6.6 kB)\n",
      "Collecting regex>=2022.1.18 (from tiktoken)\n",
      "  Downloading regex-2024.9.11-cp311-cp311-macosx_10_9_x86_64.whl.metadata (40 kB)\n",
      "Requirement already satisfied: requests>=2.26.0 in ./venv/lib/python3.11/site-packages (from tiktoken) (2.32.3)\n",
      "Requirement already satisfied: charset-normalizer<4,>=2 in ./venv/lib/python3.11/site-packages (from requests>=2.26.0->tiktoken) (3.4.0)\n",
      "Requirement already satisfied: idna<4,>=2.5 in ./venv/lib/python3.11/site-packages (from requests>=2.26.0->tiktoken) (3.10)\n",
      "Requirement already satisfied: urllib3<3,>=1.21.1 in ./venv/lib/python3.11/site-packages (from requests>=2.26.0->tiktoken) (2.2.3)\n",
      "Requirement already satisfied: certifi>=2017.4.17 in ./venv/lib/python3.11/site-packages (from requests>=2.26.0->tiktoken) (2024.8.30)\n",
      "Downloading tiktoken-0.8.0-cp311-cp311-macosx_10_9_x86_64.whl (1.0 MB)\n",
      "\u001b[2K   \u001b[90m━━━━━━━━━━━━━━━━━━━━━━━━━━━━━━━━━━━━━━━━\u001b[0m \u001b[32m1.0/1.0 MB\u001b[0m \u001b[31m7.8 MB/s\u001b[0m eta \u001b[36m0:00:00\u001b[0m\n",
      "\u001b[?25hDownloading regex-2024.9.11-cp311-cp311-macosx_10_9_x86_64.whl (287 kB)\n",
      "Installing collected packages: regex, tiktoken\n",
      "Successfully installed regex-2024.9.11 tiktoken-0.8.0\n"
     ]
    }
   ],
   "source": [
    "!pip install tiktoken"
   ]
  },
  {
   "cell_type": "code",
   "execution_count": 2,
   "id": "168d8745-ffdd-4176-92d6-300e4dfde616",
   "metadata": {},
   "outputs": [],
   "source": [
    "import tiktoken\n",
    "enc = tiktoken.get_encoding(\"o200k_base\")\n",
    "assert enc.decode(enc.encode(\"i believe i believe we can write a story\")) == \"i believe i believe we can write a story\"\n",
    "\n",
    "# To get the tokeniser corresponding to a specific model in the OpenAI API:\n",
    "enc = tiktoken.encoding_for_model(\"gpt-4o\")"
   ]
  },
  {
   "cell_type": "code",
   "execution_count": 13,
   "id": "d0910770-c7dc-4ff6-921b-b8a955db3152",
   "metadata": {},
   "outputs": [
    {
     "name": "stdout",
     "output_type": "stream",
     "text": [
      "[72, 5067, 290, 1849, 21872, 483, 922, 1849, 1803]\n"
     ]
    }
   ],
   "source": [
    "print(enc.encode(\"i write the right sentence with my right hand\"))"
   ]
  },
  {
   "cell_type": "code",
   "execution_count": 15,
   "id": "b8eb1c7a-1312-4341-9f6b-c9cac09beaed",
   "metadata": {},
   "outputs": [
    {
     "name": "stdout",
     "output_type": "stream",
     "text": [
      "\u001b[48;5;167mT\u001b[48;5;179mh\u001b[48;5;185ma\u001b[48;5;77mt\u001b[48;5;80ms\u001b[0m\n",
      "\u001b[48;5;167mT\u001b[48;5;179mh\u001b[48;5;185mat\u001b[48;5;80ms\u001b[0m\n",
      "\u001b[48;5;167mTh\u001b[48;5;185mat\u001b[48;5;80ms\u001b[0m\n",
      "\u001b[48;5;167mTh\u001b[48;5;185mats\u001b[0m\n",
      "\n",
      "\u001b[48;5;167m \u001b[48;5;179mw\u001b[48;5;185mh\u001b[48;5;77ma\u001b[48;5;80mt\u001b[0m\n",
      "\u001b[48;5;167m \u001b[48;5;179mw\u001b[48;5;185mh\u001b[48;5;77mat\u001b[0m\n",
      "\u001b[48;5;167m w\u001b[48;5;185mh\u001b[48;5;77mat\u001b[0m\n",
      "\u001b[48;5;167m wh\u001b[48;5;77mat\u001b[0m\n",
      "\u001b[48;5;167m what\u001b[0m\n",
      "\n",
      "\u001b[48;5;167m \u001b[48;5;179ms\u001b[48;5;185mh\u001b[48;5;77me\u001b[0m\n",
      "\u001b[48;5;167m s\u001b[48;5;185mh\u001b[48;5;77me\u001b[0m\n",
      "\u001b[48;5;167m s\u001b[48;5;185mhe\u001b[0m\n",
      "\u001b[48;5;167m she\u001b[0m\n",
      "\n",
      "\u001b[48;5;167m \u001b[48;5;179ms\u001b[48;5;185ma\u001b[48;5;77mi\u001b[48;5;80md\u001b[0m\n",
      "\u001b[48;5;167m s\u001b[48;5;185ma\u001b[48;5;77mi\u001b[48;5;80md\u001b[0m\n",
      "\u001b[48;5;167m s\u001b[48;5;185ma\u001b[48;5;77mid\u001b[0m\n",
      "\u001b[48;5;167m sa\u001b[48;5;77mid\u001b[0m\n",
      "\u001b[48;5;167m said\u001b[0m\n",
      "\n"
     ]
    },
    {
     "data": {
      "text/plain": [
       "[1016, 1900, 1148, 1364, 1071]"
      ]
     },
     "execution_count": 15,
     "metadata": {},
     "output_type": "execute_result"
    }
   ],
   "source": [
    "from tiktoken._educational import *\n",
    "enc = tiktoken.get_encoding(\"cl100k_base\")\n",
    "enc = SimpleBytePairEncoding.from_tiktoken(\"cl100k_base\")\n",
    "enc.encode(\"Thats what she said\")"
   ]
  },
  {
   "cell_type": "code",
   "execution_count": null,
   "id": "56fcc039-cc8a-41c3-88ff-4247b9b756f4",
   "metadata": {},
   "outputs": [],
   "source": []
  }
 ],
 "metadata": {
  "kernelspec": {
   "display_name": "Python 3 (ipykernel)",
   "language": "python",
   "name": "python3"
  },
  "language_info": {
   "codemirror_mode": {
    "name": "ipython",
    "version": 3
   },
   "file_extension": ".py",
   "mimetype": "text/x-python",
   "name": "python",
   "nbconvert_exporter": "python",
   "pygments_lexer": "ipython3",
   "version": "3.11.5"
  }
 },
 "nbformat": 4,
 "nbformat_minor": 5
}
